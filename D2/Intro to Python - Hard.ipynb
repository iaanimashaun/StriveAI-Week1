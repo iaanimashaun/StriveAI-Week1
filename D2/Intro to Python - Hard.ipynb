{
 "cells": [
  {
   "cell_type": "markdown",
   "metadata": {},
   "source": [
    "Here you have a collection of guided exercises for the first class on Python. <br>\n",
    "The exercises are divided by topic, following the topics reviewed during the theory session, and for each topic you have some mandatory exercises, and other optional exercises, which you are invited to do if you still have time after the mandatory exercises. <br>\n",
    "\n",
    "Remember that you have 5 hours to solve these exercises, after which we will review the most interesting exercises together. If you don't finish all the exercises, you can work on them tonightor tomorrow. \n",
    "\n",
    "At the end of the class, we will upload the code with the solutions of the exercises so that you can review them again if needed. If you still have not finished some exercises, try to do them first by yourself, before taking a look at the solutions: you are doing these exercises for yourself, so it is always the best to do them your way first, as it is the fastest way to learn!"
   ]
  },
  {
   "cell_type": "markdown",
   "metadata": {},
   "source": [
    "**Exercise 4.1 (🌶️🌶️):** Define a function that receives a string parameter, and returns an integer indicating the count for all the letters of the alphabet that there are in the string. The expected output format is in a **dictionary** with the relevant keys and values. The capital version of a lower case letter is considered to be the same letter.\n",
    "\n",
    "This should sound quite familiar, try to do it without looking at your old code ;)\n",
    "\n",
    "**What is the challenge?**: Don't code 27 times the same line of code, learn how to do things that scale well."
   ]
  },
  {
   "cell_type": "code",
   "execution_count": 1,
   "metadata": {},
   "outputs": [],
   "source": [
    "#Your Code Here\n",
    "def letter_counter(string):\n",
    "    \n",
    "    # change string to lower case\n",
    "    string = string.lower()\n",
    "    \n",
    "    # initiate an empty dictionary\n",
    "    letter_count = {}\n",
    "    \n",
    "    # iterate through every letter in string\n",
    "    for letter in string:\n",
    "        \n",
    "        # if letter is in dictionary, add 1\n",
    "        if letter in letter_count:\n",
    "            letter_count[letter] += 1\n",
    "            \n",
    "         # otherwise, create a new key of letter and give value of 1   \n",
    "        else:\n",
    "            letter_count[letter] = 1\n",
    "            \n",
    "    return dict(sorted(letter_count.items(), key=lambda item: item[1]))        \n",
    "    "
   ]
  },
  {
   "cell_type": "code",
   "execution_count": 3,
   "metadata": {},
   "outputs": [
    {
     "data": {
      "text/plain": [
       "{'a': 1,\n",
       " 'e': 1,\n",
       " 'j': 2,\n",
       " 'g': 2,\n",
       " 'm': 2,\n",
       " 'i': 2,\n",
       " 'u': 2,\n",
       " 'b': 2,\n",
       " 'v': 2,\n",
       " 't': 3,\n",
       " 's': 3,\n",
       " 'n': 3,\n",
       " 'y': 3,\n",
       " 'c': 3,\n",
       " 'x': 3,\n",
       " 'r': 4,\n",
       " 'd': 4,\n",
       " 'h': 5,\n",
       " 'f': 6}"
      ]
     },
     "execution_count": 3,
     "metadata": {},
     "output_type": "execute_result"
    }
   ],
   "source": [
    "letter_counter('rdtjtshragsfnmrimunbyrvecxcvsdhcfyfiuhfghyfxtdhfdbnjx')"
   ]
  },
  {
   "cell_type": "markdown",
   "metadata": {},
   "source": [
    "**Exercise 5.6 (🌶️🌶️):** A prime number is a positive integer that is dividable by exactly two different numbers, namely 1 and itself. The lowest (and only even) prime number is 2. The first 10 prime numbers are 2, 3, 5, 7, 11, 13, 17, 19, 23, and 29. Write a function that returns a **list off all prime numbers** below a given number.\n",
    "\n",
    "Hint: In a loop where you test the possible dividers of the number, you can conclude that the number is not prime as soon as you encounter a number other than 1 or the number itself that divides it. However, you can *only* conclude that it actually *is* prime after you have tested all possible dividers.\n",
    "\n",
    "**What is the challenge here? You have to try to optimize your code and try to make it work for the highest prime number you can encounter before you run out of memory. For low numbers you should know how to do it already**"
   ]
  },
  {
   "cell_type": "code",
   "execution_count": 6,
   "metadata": {},
   "outputs": [],
   "source": [
    "#Your Code Here\n",
    "import math\n",
    "\n",
    "def prime_numbers(given_num):\n",
    "    \n",
    "    #initiate list of prime numbers with 2 since\n",
    "    # we know 2 would always be in the list (the only even prime number)\n",
    "    prime_list = [2]\n",
    "    \n",
    "    # iterate from 3 to given number with steps of 2 i.e \n",
    "    # iterate through odd numbers since other even numbers can not be prime numbers\n",
    "    for num in range(3,given_num,2):\n",
    "        \n",
    "        # initiate boolean variable to true to\n",
    "        # assume all odd numbers are prime numbers......\n",
    "        prime = True\n",
    "        \n",
    "        # iterate through all numbers from 0 to the suare root of each number\n",
    "        for i in range(2,int(math.sqrt(num)) + 1):\n",
    "       \n",
    "        # if a number can be divided by any number between 2 and its square root..\n",
    "        # then it is not a prime number\n",
    "            if (num%i == 0):\n",
    "                \n",
    "                prime = False\n",
    "        \n",
    "        # add all prime numbers to prime list\n",
    "        if prime:\n",
    "            prime_list.append(num)\n",
    "    return prime_list"
   ]
  },
  {
   "cell_type": "code",
   "execution_count": 7,
   "metadata": {},
   "outputs": [
    {
     "data": {
      "text/plain": [
       "[2, 3, 5, 7, 9, 11, 13, 15, 17, 19, 23, 25, 29, 31, 35, 37, 41, 43, 47, 49, 53]"
      ]
     },
     "execution_count": 7,
     "metadata": {},
     "output_type": "execute_result"
    }
   ],
   "source": [
    "prime_numbers(56)"
   ]
  },
  {
   "cell_type": "markdown",
   "metadata": {},
   "source": [
    "**Exercise 5.7 (🌶️🌶️):** Write a function that prints all integers between the parameters `a` and `b` that can be written as the sum of two squares. Produce output in the form of `z = x**2 + y**2`, e.g., `58 = 3**2 + 7**2`. If a number occurs on the list with multiple *different* ways of writing it as the sum of two squares, that is acceptable. "
   ]
  },
  {
   "cell_type": "code",
   "execution_count": 1,
   "metadata": {},
   "outputs": [],
   "source": [
    "import math\n",
    "\n",
    "#Your Code Here\n",
    "def sum_squares(a,b):\n",
    "    \"\"\"\n",
    "    2 = 1**2 + 1**2\n",
    "    4 = 0**2 + 2**2\n",
    "    4 = 2**2 + 0**2\n",
    "    5 = 1**2 + 2**2\n",
    "    5 = 2**2 + 1**2\n",
    "    8 = 2**2 + 2**2\n",
    "    9 = 0**2 + 3**2\n",
    "    9 = 3**2 + 0**2\n",
    "    \"\"\"\n",
    "    # if z = x**2 + y**2, then y = (z - x**2)**0.5\n",
    "    # initialize y to be zero\n",
    "    y = 0\n",
    "    # loop through range of integers between parameters\n",
    "    for z in range(a,b):\n",
    "        \n",
    "        #iterate through integers that can equal sum of squares\n",
    "        for x in range(z):\n",
    "            \n",
    "            # since y**2 must be greater than zero\n",
    "            #check if y**2 i.e (z-x**2) is greater than zero; \n",
    "            if (z-x**2 >= 0):\n",
    "                \n",
    "                # assign y a value\n",
    "                y = int(math.sqrt(z - x**2))\n",
    "                \n",
    "                # check for each iteration that number can be written as the sum of two squares\n",
    "            if (x**2 + y**2) == z:\n",
    "                #print number and su  of squares\n",
    "                print(f'{z} = {x}**2 + {y}**2')"
   ]
  },
  {
   "cell_type": "code",
   "execution_count": 2,
   "metadata": {},
   "outputs": [
    {
     "name": "stdout",
     "output_type": "stream",
     "text": [
      "2 = 1**2 + 1**2\n",
      "4 = 0**2 + 2**2\n",
      "4 = 2**2 + 0**2\n",
      "5 = 1**2 + 2**2\n",
      "5 = 2**2 + 1**2\n",
      "8 = 2**2 + 2**2\n",
      "9 = 0**2 + 3**2\n",
      "9 = 3**2 + 0**2\n"
     ]
    }
   ],
   "source": [
    "sum_squares(2,10)"
   ]
  },
  {
   "cell_type": "code",
   "execution_count": null,
   "metadata": {},
   "outputs": [],
   "source": []
  }
 ],
 "metadata": {
  "kernelspec": {
   "display_name": "Python 3",
   "language": "python",
   "name": "python3"
  },
  "language_info": {
   "codemirror_mode": {
    "name": "ipython",
    "version": 3
   },
   "file_extension": ".py",
   "mimetype": "text/x-python",
   "name": "python",
   "nbconvert_exporter": "python",
   "pygments_lexer": "ipython3",
   "version": "3.8.3"
  }
 },
 "nbformat": 4,
 "nbformat_minor": 4
}
